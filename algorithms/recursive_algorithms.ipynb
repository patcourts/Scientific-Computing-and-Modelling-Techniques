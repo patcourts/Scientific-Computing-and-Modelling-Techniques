{
 "cells": [
  {
   "cell_type": "markdown",
   "metadata": {},
   "source": [
    "### Iteration vs recursion\n",
    "\n",
    "* An iterative function is one that loops to repeat some part of the code. \n",
    "* A recursive function is one that calls itself again to repeat the code.\n",
    "\n",
    "Recursive functions are a natural framework for implementing divide and conquer algorithms.\n",
    "\n",
    "Every recursive function consists of:\n",
    "* one or more **recursive cases**: inputs for which the function calls itself \n",
    "* one or more **base cases**: inputs for which the function returns a (usually simple) value.\n",
    "\n",
    "An example is the calculation of the factorial of a number as shown below."
   ]
  },
  {
   "cell_type": "code",
   "execution_count": null,
   "metadata": {},
   "outputs": [],
   "source": [
    "def factorial(n):\n",
    "    if n == 0:\n",
    "        # Base case\n",
    "        return 1\n",
    "    else:\n",
    "        # Use the formula\n",
    "        return n * factorial(n-1)"
   ]
  },
  {
   "cell_type": "markdown",
   "metadata": {},
   "source": [
    "Recursive function calls incur additional computational overheads.\n",
    "\n",
    "* Variables and information associated with each call stored on the **call stack** until base case is reached.\n",
    "* **Recursion depth**: maximum size of the call stack.\n",
    "* Infinite (or excessive) recursion depth leads to **stack overflow**.\n",
    "\n",
    "An example approach it the fibonacci sequence defined as\n",
    "$$F_n = F_{n-1} + F_{n-2}$$ \n",
    "with $F_1 = 0$, $F_2 = 1$. The obvious approach by iteration can also be done through recurssion"
   ]
  },
  {
   "cell_type": "code",
   "execution_count": null,
   "metadata": {},
   "outputs": [],
   "source": [
    "#iterative fibonacci\n",
    "def Fib1(n):\n",
    "    if n==1 or n==2:\n",
    "        return n-1\n",
    "    else:\n",
    "        a = [np.int(0)] * (n+1)\n",
    "        a[1] = 0; a[2]=1;\n",
    "        for i in range(3, n+1):\n",
    "            a[i] = a[i-1] + a[i-2]\n",
    "        return a[i]\n",
    "    \n",
    "\n",
    "#recursive fibonacci\n",
    "def Fib2(n):\n",
    "    if n==1 or n==2:\n",
    "        return n-1\n",
    "    else:\n",
    "        return Fib2(n-1) + Fib2(n-2)\n",
    "    \n",
    "\n",
    "#or too avoid repeated calls to the funtion with the same input we can use memoisation\n",
    "def Fib3(n, memo):\n",
    "    if not n in memo:\n",
    "        memo[n] = Fib3(n-1, memo) + Fib3(n-2, memo)\n",
    "    return memo[n]     "
   ]
  },
  {
   "cell_type": "markdown",
   "metadata": {},
   "source": [
    "As mentioned, recursion can be used for divide and conquer algorithms such as Strassen Matrix multiplication defined as: \n",
    "$$\n",
    "\\begin{array}{ll}\n",
    "\\mathbf{C}_{11} = \\mathbf{M}_{1}+\\mathbf{M}_{4}-\\mathbf{M}_{5}+\\mathbf{M}_{7} & \\mathbf{C}_{12} =\\mathbf{M}_{3}+\\mathbf{M}_{5}\\\\\n",
    "\\mathbf{C}_{21} = \\mathbf{M}_{2}+\\mathbf{M}_{4} & \\mathbf{C}_{22} = \\mathbf{M}_{1}-\\mathbf{M}_{2}+\\mathbf{M}_{3}+\\mathbf{M}_{6},\n",
    "\\end{array}\n",
    "$$\n",
    "\n",
    "where $\\mathbf{M}_1$ to $\\mathbf{M}_7$ are\n",
    "\n",
    "$$\n",
    "\\begin{array}{ll}\n",
    "\\mathbf{M}_{1} = \\left(\\mathbf{A}_{11}+\\mathbf{A}_{22}\\right)\\left(\\mathbf{B}_{11}+\\mathbf{B}_{22}\\right) &\n",
    "\\mathbf{M}_{2} = \\left(\\mathbf{A}_{21}+\\mathbf{A}_{22}\\right) \\mathbf{B}_{11}\\\\\n",
    "\\mathbf{M}_{3} = \\mathbf{A}_{11} \\left(\\mathbf{B}_{12}-\\mathbf{B}_{22}\\right)&\n",
    "\\mathbf{M}_{4} =  \\mathbf{A}_{22} \\left(\\mathbf{B}_{21}-\\mathbf{B}_{11}\\right)\\\\\n",
    "\\mathbf{M}_{5} =  \\left(\\mathbf{A}_{11}+\\mathbf{A}_{12}\\right) \\mathbf{B}_{22}&\n",
    "\\mathbf{M}_{6} = \\left(\\mathbf{A}_{21}-\\mathbf{A}_{11}\\right)\\left(\\mathbf{B}_{11}+\\mathbf{B}_{12}\\right)\\\\\n",
    "\\mathbf{M}_{7} =  \\left(\\mathbf{A}_{12}-\\mathbf{A}_{22}\\right)\\left(\\mathbf{B}_{21}+\\mathbf{B}_{22}\\right)&\n",
    " .\n",
    "\\end{array}\n",
    "$$\n",
    "\n",
    "This only works however for matrices of size $2^m$.\n",
    "\n"
   ]
  },
  {
   "cell_type": "code",
   "execution_count": null,
   "metadata": {},
   "outputs": [],
   "source": [
    "#only works for matrices with size equal to a power of two\n",
    "\n",
    "def StrassenMultiply(A, B):  \n",
    "    #only want linear multiplication i.e. times a number by another number\n",
    "    if len(A) == 1:\n",
    "        return A*B\n",
    "    \n",
    "    #recursively split matrix until reach base case (singular numbers)\n",
    "    n = len(A)//2 \n",
    "    \n",
    "    #split matrices into quadrants\n",
    "    a11 = A[:n, :n]\n",
    "    a12 = A[:n, n:]\n",
    "    a21 = A[n:, :n]\n",
    "    a22 = A[n:, n:]\n",
    "\n",
    "    b11 = B[:n, :n]\n",
    "    b12 = B[:n, n:]\n",
    "    b21 = B[n:, :n]\n",
    "    b22 = B[n:, n:]\n",
    "    \n",
    "    #recursively calculate algroithm coefficients\n",
    "    M1 = StrassenMultiply((a11 + a22),(b11 + b22))\n",
    "    M2 = StrassenMultiply((a21 + a22), b11)\n",
    "    M3 = StrassenMultiply(a11, (b12 - b22))\n",
    "    M4 = StrassenMultiply(a22, (b21 - b11))\n",
    "    M5 = StrassenMultiply((a11 + a12), b22)\n",
    "    M6 = StrassenMultiply((a21 - a11),(b11 + b12))\n",
    "    M7 = StrassenMultiply((a12 - a22),(b21 + b22))\n",
    "\n",
    "    \n",
    "    C11 = M1 + M4 - M5 +M7\n",
    "    C12 = M3 + M5\n",
    "    C21 = M2 + M4\n",
    "    C22 = M1 - M2 + M3 + M6\n",
    "    \n",
    "    #comibing the final matrix into original shape\n",
    "    C = np.vstack((np.hstack((C11, C12)), np.hstack((C21, C22))))\n",
    "    return C"
   ]
  },
  {
   "cell_type": "markdown",
   "metadata": {},
   "source": [
    "we can compare the speed of the algorithm with standard matrix multiplication, will see $O(n^{2.81})$ compared to $O(n^3)$"
   ]
  },
  {
   "cell_type": "markdown",
   "metadata": {},
   "source": []
  }
 ],
 "metadata": {
  "language_info": {
   "name": "python"
  }
 },
 "nbformat": 4,
 "nbformat_minor": 2
}
