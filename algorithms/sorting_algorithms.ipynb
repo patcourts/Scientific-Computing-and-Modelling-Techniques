{
 "cells": [
  {
   "cell_type": "markdown",
   "metadata": {},
   "source": [
    "## Insertion Sort\n",
    "\n",
    "Step through each item in turn, placing it in the appropriate location among the previously examined items.\n",
    "\n",
    "For an array of length $n$.\n",
    "* **Best case**: if input array is already in order? $n$ comparisons.\n",
    "* **Worst case**: if input array is in reverse order? $\\frac{1}{2}\\,n\\,(n+1)$ comparisons.\n",
    "Computational complexity of insertion sort is therefore $\\mathcal{O}(n^2)$.\n",
    "\n",
    "Typical case $\\sim n^2$."
   ]
  },
  {
   "cell_type": "code",
   "execution_count": null,
   "metadata": {},
   "outputs": [],
   "source": [
    "def insertion_sort(a):\n",
    "    #dealing with empty array\n",
    "    if len(a) == 0:\n",
    "        print('Cannot Sort Empty Array')\n",
    "        return a\n",
    "    #for non empty array\n",
    "    else: \n",
    "        for i in range(1, len(a)):\n",
    "            element = a[i]\n",
    "            j = i - 1\n",
    "            #comparing element with previous elements in array and if it is smaller then moving the it down the array\n",
    "            while j >= 0 and element < a[j]:\n",
    "                a[j + 1] = a[j]\n",
    "                j -= 1\n",
    "            a[j + 1] = element #placing element in the right location based on current information\n",
    "        return a"
   ]
  },
  {
   "cell_type": "markdown",
   "metadata": {},
   "source": [
    "## Partial Sort\n",
    "\n",
    "A **partial q-sort** of a list of numbers is an ordering in which all subsequences with stride q are sorted."
   ]
  },
  {
   "cell_type": "markdown",
   "metadata": {},
   "source": [
    "### ShellSort\n",
    "\n",
    "* do a succession of partial q-sorts, with q taken from a pre-specified list, Q. \n",
    "* Start from a large increment and finish with increment 1, which produces a fully sorted list. \n",
    "* Performance depends on $Q$ but generally faster than insertion sort.\n",
    "\n",
    "Example. $Q = \\left\\{2^i : i=i_{max},i_{max} −1,...,2,1,0\\right\\}$ where $i_{max}$ is the largest $i$ with $2^i < \\frac{n}{2}$. Typical case $\\sim n^\\frac{3}{2}$ (although worst case still $n^2$.).\n",
    "\n",
    "* Surprising that ShellSort beats insertion sort since the last pass is a full insertion sort.\n",
    "* A better choice of increments is $Q = \\left\\{\\frac{1}{2}(3^i-1) : i=i_{max},i_{max} −1,...,2,1\\right\\}$. This gives typical case $\\sim n^\\frac{5}{4}$ and worst case $\\sim n^\\frac{3}{2}$.\n",
    "* General understanding of the computational complexity of ShellSort is an open problem.\n"
   ]
  },
  {
   "cell_type": "markdown",
   "metadata": {},
   "source": [
    "### Mergesort - a recursive sort\n",
    "\n",
    "* divide-and-conquer sorting strategy invented by Von Neumann. \n",
    "* Mergesort interlaces two **sorted** arrays into a larger sorted array.\n",
    "* Given the interlace() function, mergesort is very simple:\n",
    "\n",
    "This has complexity of $\\mathcal{O}(n\\log_2n)$"
   ]
  },
  {
   "cell_type": "code",
   "execution_count": null,
   "metadata": {},
   "outputs": [],
   "source": [
    "#recursive method\n",
    "def interlace(list1, list2):\n",
    "    alist = []\n",
    "    if (len(list1) == 0):\n",
    "        return list2\n",
    "    elif (len(list2) == 0):\n",
    "        return list1\n",
    "    elif list1[0] < list2[0]:\n",
    "        alist.append(list1[0])\n",
    "        return alist + interlace(list1[1:], list2)\n",
    "    else:\n",
    "        alist.append(list2[0])\n",
    "        return alist + interlace(list1, list2[1:])\n",
    "    \n",
    "\n",
    "def mergeSort(A):\n",
    "   n=len(A)\n",
    "   if n == 1:\n",
    "      return A  # an array of length 1 is already sorted\n",
    "   else: \n",
    "    m=n/2\n",
    "    return interlace(mergeSort(A[0:m]), mergeSort(A[m:n]))"
   ]
  },
  {
   "cell_type": "markdown",
   "metadata": {},
   "source": [
    "For large arrays it may be possible to reach recursion depth, in this scenario an iterative approach to the interlace function should be used."
   ]
  },
  {
   "cell_type": "code",
   "execution_count": null,
   "metadata": {},
   "outputs": [],
   "source": [
    "def interlace(list1, list2):\n",
    "    alist = []\n",
    "    if (len(list1) == 0):\n",
    "        return list2\n",
    "    elif (len(list2) == 0):\n",
    "        return list1\n",
    "    else:\n",
    "        #iterating through the elements in list j and comparing to elements in list i, if smaller then checks the next\n",
    "        #element in the list j against the same element in list i and vice versa until array is sorted\n",
    "        i =0\n",
    "        j =0\n",
    "        while i < len(list1) and j < len(list2):\n",
    "\n",
    "            if list2[j] < list1[i]:\n",
    "                alist.append(list2[j])\n",
    "                j +=1 #compares next element in same list to same element in other list to see if is also smaller\n",
    "                \n",
    "            elif list1[i] <= list2[j]:\n",
    "                alist.append(list1[i])\n",
    "                i +=1\n",
    "                \n",
    "        #as arrays already presorted, when one array has iterated the rest of the other array can just be appended onto final\n",
    "        #list\n",
    "        if i == len(list1):\n",
    "            for k in range(j, len(list2)):\n",
    "                alist.append(list2[k])\n",
    "        elif j == len(list2):\n",
    "            for k in range(i, len(list1)):\n",
    "                alist.append(list1[k])\n",
    "                \n",
    "    return alist\n"
   ]
  }
 ],
 "metadata": {
  "language_info": {
   "name": "python"
  }
 },
 "nbformat": 4,
 "nbformat_minor": 2
}
